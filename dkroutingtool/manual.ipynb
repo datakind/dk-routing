{
 "cells": [
  {
   "cell_type": "code",
   "execution_count": 1,
   "metadata": {},
   "outputs": [],
   "source": [
    "%load_ext autoreload\n",
    "%autoreload 2"
   ]
  },
  {
   "cell_type": "code",
   "execution_count": 2,
   "metadata": {},
   "outputs": [
    {
     "name": "stdout",
     "output_type": "stream",
     "text": [
      "/src/py\n"
     ]
    }
   ],
   "source": [
    "cd src/py"
   ]
  },
  {
   "cell_type": "code",
   "execution_count": 3,
   "metadata": {},
   "outputs": [],
   "source": [
    "import sys\n",
    "import json\n",
    "import argparse\n",
    "import time\n",
    "\n",
    "import build_time_dist_matrix\n",
    "import optimization\n",
    "import visualization\n",
    "import schedule\n",
    "import upload_results\n",
    "import manual_viz"
   ]
  },
  {
   "cell_type": "code",
   "execution_count": 4,
   "metadata": {},
   "outputs": [],
   "source": [
    "from config.config_manager import ConfigManager, ConfigFileLocations, GPSInputPaths, ManualEditsInputPaths"
   ]
  },
  {
   "cell_type": "code",
   "execution_count": 5,
   "metadata": {},
   "outputs": [],
   "source": [
    "cp ../../build_parameters.yml /src/py/"
   ]
  },
  {
   "cell_type": "code",
   "execution_count": 6,
   "metadata": {},
   "outputs": [
    {
     "name": "stdout",
     "output_type": "stream",
     "text": [
      "\u001b[0m\u001b[01;32m__init__.py\u001b[0m*                \u001b[01;32mgeojson_to_gpx_converter.py\u001b[0m*  \u001b[01;32mreadme.md\u001b[0m*\r\n",
      "\u001b[01;34m__pycache__\u001b[0m/                \u001b[01;32mmain_application.py\u001b[0m*          \u001b[01;32mrun_routing.py\u001b[0m*\r\n",
      "\u001b[01;32mbuild_parameters.yml\u001b[0m*       \u001b[01;32mmanage_aws.py\u001b[0m*                \u001b[01;32mschedule.py\u001b[0m*\r\n",
      "\u001b[01;32mbuild_time_dist_matrix.py\u001b[0m*  \u001b[01;32mmanual_viz.py\u001b[0m*                \u001b[01;32mscratchpad.py\u001b[0m*\r\n",
      "\u001b[01;32mcloud_context.py\u001b[0m*           \u001b[01;32mnode_data_pickle.py\u001b[0m*          \u001b[01;32mserver.py\u001b[0m*\r\n",
      "\u001b[34;42mconfig\u001b[0m/                     \u001b[01;32moptimization.py\u001b[0m*              \u001b[34;42mui\u001b[0m/\r\n",
      "\u001b[01;32melevation_utils.py\u001b[0m*         \u001b[01;32mosrm_text_instructions.py\u001b[0m*    \u001b[01;32mupload_results.py\u001b[0m*\r\n",
      "\u001b[01;32mfile_config.py\u001b[0m*             \u001b[34;42moutput\u001b[0m/                       \u001b[01;32mvisualization.py\u001b[0m*\r\n"
     ]
    }
   ],
   "source": [
    "ls"
   ]
  },
  {
   "cell_type": "code",
   "execution_count": 7,
   "metadata": {},
   "outputs": [
    {
     "name": "stderr",
     "output_type": "stream",
     "text": [
      "INFO:root:Missing ('Closed', 'closed'), adding substition\n"
     ]
    }
   ],
   "source": [
    "config_manager =  ConfigManager.load_from_local(\n",
    "            '/data/', False, None)"
   ]
  },
  {
   "cell_type": "code",
   "execution_count": 8,
   "metadata": {},
   "outputs": [],
   "source": [
    "import logging"
   ]
  },
  {
   "cell_type": "code",
   "execution_count": 9,
   "metadata": {},
   "outputs": [
    {
     "name": "stderr",
     "output_type": "stream",
     "text": [
      "INFO:root:Building Time/Distance Matrices\n",
      "INFO:root:Num buckets Assumed: 2\n"
     ]
    }
   ],
   "source": [
    "routing_config = config_manager.get_routing_config()\n",
    "logging.info('Building Time/Distance Matrices')\n",
    "# check if node_loader_options are specified\n",
    "config = routing_config.get_raw_json()\n",
    "if 'node_loader_options' in config.keys():\n",
    "    node_data = build_time_dist_matrix.process_nodes(\n",
    "        config_manager,\n",
    "        config['node_loader_options'],\n",
    "        config['zone_configs'])"
   ]
  },
  {
   "cell_type": "code",
   "execution_count": 10,
   "metadata": {},
   "outputs": [
    {
     "name": "stdout",
     "output_type": "stream",
     "text": [
      "False\n"
     ]
    },
    {
     "name": "stderr",
     "output_type": "stream",
     "text": [
      "INFO:root:Took 1.80567 seconds to resequence\n",
      "INFO:root:Total Distance of all routes: 15.922000000000002km\n",
      "INFO:root:Total Time of all routes: 1736.9000000000003min\n"
     ]
    },
    {
     "name": "stdout",
     "output_type": "stream",
     "text": [
      "False\n"
     ]
    },
    {
     "name": "stderr",
     "output_type": "stream",
     "text": [
      "INFO:root:Took 2.871233 seconds to resequence\n",
      "INFO:root:Total Distance of all routes: 21.7879km\n",
      "INFO:root:Total Time of all routes: 2502.3min\n",
      "INFO:root:Optmization Complete: Took 00min 06sec to optimize [['East'], ['West']]\n"
     ]
    }
   ],
   "source": [
    "solution = optimization.run_optimization(node_data, config)\n",
    "visualization_data = visualization.create_visualizations(solution)    "
   ]
  },
  {
   "cell_type": "code",
   "execution_count": null,
   "metadata": {},
   "outputs": [],
   "source": []
  },
  {
   "cell_type": "code",
   "execution_count": 14,
   "metadata": {},
   "outputs": [
    {
     "ename": "ModuleNotFoundError",
     "evalue": "No module named 'matplotlib'",
     "output_type": "error",
     "traceback": [
      "\u001b[0;31m---------------------------------------------------------------------------\u001b[0m",
      "\u001b[0;31mModuleNotFoundError\u001b[0m                       Traceback (most recent call last)",
      "\u001b[0;32m/tmp/ipykernel_104/3425648575.py\u001b[0m in \u001b[0;36m<module>\u001b[0;34m\u001b[0m\n\u001b[1;32m      1\u001b[0m \u001b[0;32mimport\u001b[0m \u001b[0mdatetime\u001b[0m\u001b[0;34m\u001b[0m\u001b[0;34m\u001b[0m\u001b[0m\n\u001b[0;32m----> 2\u001b[0;31m \u001b[0;32mimport\u001b[0m \u001b[0mmatplotlib\u001b[0m\u001b[0;34m\u001b[0m\u001b[0;34m\u001b[0m\u001b[0m\n\u001b[0m\u001b[1;32m      3\u001b[0m \u001b[0;32mfrom\u001b[0m \u001b[0mmatplotlib\u001b[0m \u001b[0;32mimport\u001b[0m \u001b[0mpyplot\u001b[0m\u001b[0;34m\u001b[0m\u001b[0;34m\u001b[0m\u001b[0m\n\u001b[1;32m      4\u001b[0m \u001b[0;32mimport\u001b[0m \u001b[0mnumpy\u001b[0m \u001b[0;32mas\u001b[0m \u001b[0mnp\u001b[0m\u001b[0;34m\u001b[0m\u001b[0;34m\u001b[0m\u001b[0m\n\u001b[1;32m      5\u001b[0m \u001b[0;32mimport\u001b[0m \u001b[0mpandas\u001b[0m \u001b[0;32mas\u001b[0m \u001b[0mpd\u001b[0m\u001b[0;34m\u001b[0m\u001b[0;34m\u001b[0m\u001b[0m\n",
      "\u001b[0;31mModuleNotFoundError\u001b[0m: No module named 'matplotlib'"
     ]
    }
   ],
   "source": [
    "import datetime\n",
    "import matplotlib\n",
    "from matplotlib import pyplot\n",
    "import numpy as np\n",
    "import pandas as pd"
   ]
  },
  {
   "cell_type": "code",
   "execution_count": null,
   "metadata": {},
   "outputs": [],
   "source": [
    "pyplot.rcParams[\"figure.figsize\"] = [3,7]\n",
    "for route in route_dict:\n",
    "    distances = [0]+route_dict[route]['current_distance'][:-1]\n",
    "    times = route_dict[route]['time']\n",
    "    distances = np.array(distances).cumsum()\n",
    "    times = np.array(times)\n",
    "\n",
    "    y_ticks = [f'{name} - {datetime.timedelta(seconds=float(one_time))}' for one_time,name in zip(times,route_dict[route]['current_names'])]\n",
    "    pyplot.yticks(ticks=times, labels=y_ticks)\n",
    "    pyplot.plot(distances, times, marker='o')\n",
    "    pyplot.show()"
   ]
  },
  {
   "cell_type": "code",
   "execution_count": null,
   "metadata": {},
   "outputs": [],
   "source": []
  },
  {
   "cell_type": "code",
   "execution_count": null,
   "metadata": {},
   "outputs": [],
   "source": [
    "pyplot.rcParams[\"figure.figsize\"] = [3,7]\n",
    "for route in route_dict:\n",
    "    distances = pd.Series(route_dict[route]['travel_time']).shift(1).values[1:]\n",
    "    times = pd.Series(route_dict[route]['time']).diff()[1:]-150\n",
    "    times = (times-distances)\n",
    "    times = [int(t) for t in times]\n",
    "    #distances = np.array(distances).cumsum()\n",
    "    times = np.array(times)\n",
    "\n",
    "    y_ticks = [f'{name[0]} to {name[1]} - {datetime.timedelta(seconds=float(one_time))}' for one_time,name in zip(times,zip(route_dict[route]['current_names'], route_dict[route]['next_names']))]\n",
    "    pyplot.yticks(ticks=times, labels=y_ticks)\n",
    "    pyplot.plot(times, marker='o')\n",
    "    #pyplot.plot(distances, marker='o')\n",
    "    pyplot.show()"
   ]
  }
 ],
 "metadata": {
  "kernelspec": {
   "display_name": "Python 3 (ipykernel)",
   "language": "python",
   "name": "python3"
  },
  "language_info": {
   "codemirror_mode": {
    "name": "ipython",
    "version": 3
   },
   "file_extension": ".py",
   "mimetype": "text/x-python",
   "name": "python",
   "nbconvert_exporter": "python",
   "pygments_lexer": "ipython3",
   "version": "3.7.7"
  }
 },
 "nbformat": 4,
 "nbformat_minor": 2
}
